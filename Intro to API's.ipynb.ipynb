{
 "cells": [
  {
   "cell_type": "markdown",
   "id": "7196054f",
   "metadata": {},
   "source": [
    "# Working with APIs"
   ]
  },
  {
   "cell_type": "markdown",
   "id": "0547b71e",
   "metadata": {},
   "source": [
    "API stands for Application programming interface<br>\n",
    "APIs are a way for applications to talk to eachother<br>\n",
    "In python we use the requests package to handle the connection<br>\n",
    "<small><strong>Note: It is requests with an s not request(this is a different package)</strong></small><br>\n",
    "Most API's communicate with data in the form of JSON<br>\n",
    "JSON stands for JavaScript Object Notation"
   ]
  },
  {
   "cell_type": "code",
   "execution_count": null,
   "id": "4db9d154",
   "metadata": {},
   "outputs": [],
   "source": [
    "#import the packages we need:\n",
    "import requests, json"
   ]
  },
  {
   "cell_type": "markdown",
   "id": "e8c2ce51",
   "metadata": {},
   "source": [
    "We will be connecting to the Ergast F1 Racer API today:\n",
    "http://ergast.com/mrd/\n",
    "\n",
    "to view JSON data nicely in the Chrome browser install the extension JSONview"
   ]
  },
  {
   "cell_type": "code",
   "execution_count": null,
   "id": "52c440c6",
   "metadata": {},
   "outputs": [],
   "source": [
    "# help(requests)"
   ]
  },
  {
   "cell_type": "code",
   "execution_count": null,
   "id": "f60c1b4a",
   "metadata": {},
   "outputs": [],
   "source": [
    "url = 'http://ergast.com/api/f1/2008/5/driverStandings.json'"
   ]
  },
  {
   "cell_type": "code",
   "execution_count": null,
   "id": "7b63a204",
   "metadata": {},
   "outputs": [],
   "source": [
    "#response object\n"
   ]
  },
  {
   "cell_type": "code",
   "execution_count": null,
   "id": "c6d1fdaf",
   "metadata": {},
   "outputs": [],
   "source": [
    "#check and make sure we got a successful response from the API\n"
   ]
  },
  {
   "cell_type": "code",
   "execution_count": null,
   "id": "ed4d3256",
   "metadata": {},
   "outputs": [],
   "source": [
    "#view the response as a JSON\n"
   ]
  },
  {
   "cell_type": "code",
   "execution_count": null,
   "id": "92e6cd2c",
   "metadata": {},
   "outputs": [],
   "source": []
  },
  {
   "cell_type": "code",
   "execution_count": null,
   "id": "f074dfcf",
   "metadata": {},
   "outputs": [],
   "source": [
    "# We only want the Driver Standings\n"
   ]
  },
  {
   "cell_type": "code",
   "execution_count": null,
   "id": "be46a950",
   "metadata": {},
   "outputs": [],
   "source": []
  },
  {
   "cell_type": "code",
   "execution_count": null,
   "id": "3740c752",
   "metadata": {},
   "outputs": [],
   "source": []
  },
  {
   "cell_type": "markdown",
   "id": "6d546014",
   "metadata": {},
   "source": [
    "# <strong>Homework</strong>\n",
    "Retrieve a list of Pokemon's name, abilities, types, and weight from the PokeAPI\n",
    " https://pokeapi.co/\n",
    "\n",
    "Make 20 Pokemon\n",
    "\n",
    "Whenever you need to create a POKEMON, you need to construct your Pokemon through data from the API: https://pokeapi.co/\n",
    "\n",
    "Below is an example of how your Pokemon should be categorized by Type.\n",
    "Create a dictionary\n",
    "{\n",
    "<strong>'Fire'</strong>: {\n",
    "'charizard': {\n",
    "'abilities': [],\n",
    "'weight': ,\n",
    "},\n",
    "'ninetales': {\n",
    "'abilities': [],\n",
    "'weight': ,\n",
    "}\n",
    "},\n",
    "<strong>'Flying'</strong>:,\n",
    "<strong>'Water'</strong>:\n",
    "}\n",
    "\n",
    "Remember, it may be easier to write functions to do your dirty work, and then call them to execute each topic, rather than trying to write a monstrous spaghetti-script that does it all at once; it also might be very good to plan how you'll go about this and what functions you might use before you write 500 lines of code that confuse and befuddle all who lay eyes upon it. Including yourself. An immense portion of good coding is just planning.\n",
    "\n",
    "When you're done, create a GitHub repository for your assignment and save the repository link as the assignment."
   ]
  },
  {
   "cell_type": "markdown",
   "id": "909c4386",
   "metadata": {},
   "source": [
    "## How it works\n",
    "When the user presses play, a GUI shows up allowing to enter custom pokemon stats by clicking the submit button. It also allows to search to collect information on newly or pregenerated pokemon. Clicking the save as json allows for the user to save thier newly generated pokemon as a json file for later use if desired. \n",
    "\n"
   ]
  },
  {
   "cell_type": "code",
   "execution_count": 5,
   "id": "5a9081e3",
   "metadata": {},
   "outputs": [
    {
     "name": "stdout",
     "output_type": "stream",
     "text": [
      "{'Logistics': {'Captain Rat': {'abilities': ['Underground Dig', 'Movement Speed'], 'weight': 0.35}}, 'Infantry': {'Corporal Rat': {'abilities': ['Movement Speed', 'Recon'], 'weight': 1}}, 'Naval': {'Commodore Rat': {'abilities': ['Float', ' Commands'], 'weight': 2.0}}, 'Medical': {'Medical Rat': {'abilities': ['Heal', ' Regen', ' Movement Speed'], 'weight': 0.5}}, 'Poltical': {'Senator Mouse': {'abilities': ['Poltics', ' Corruption'], 'weight': 1.0}}, 'Corporate': {'Corporate Rat': {'abilities': ['Minipulative', ' Funding'], 'weight': 2.6}}}\n",
      "{'Logistics': {'Captain Rat': {'abilities': ['Underground Dig', 'Movement Speed'], 'weight': 0.35}}, 'Infantry': {'Corporal Rat': {'abilities': ['Movement Speed', 'Recon'], 'weight': 1}, 'Private Mouse': {'abilities': ['Movement Speed'], 'weight': 0.35}}, 'Naval': {'Commodore Rat': {'abilities': ['Float', ' Commands'], 'weight': 2.0}}, 'Medical': {'Medical Rat': {'abilities': ['Heal', ' Regen', ' Movement Speed'], 'weight': 0.5}}, 'Poltical': {'Senator Mouse': {'abilities': ['Poltics', ' Corruption'], 'weight': 1.0}}, 'Corporate': {'Corporate Rat': {'abilities': ['Minipulative', ' Funding'], 'weight': 2.6}}}\n",
      "{'Logistics': {'Captain Rat': {'abilities': ['Underground Dig', 'Movement Speed'], 'weight': 0.35}}, 'Infantry': {'Corporal Rat': {'abilities': ['Movement Speed', 'Recon'], 'weight': 1}, 'Private Mouse': {'abilities': ['Movement Speed'], 'weight': 0.35}}, 'Naval': {'Commodore Rat': {'abilities': ['Float', ' Commands'], 'weight': 2.0}}, 'Medical': {'Medical Rat': {'abilities': ['Heal', ' Regen', ' Movement Speed'], 'weight': 0.5}}, 'Poltical': {'Senator Mouse': {'abilities': ['Poltics', ' Corruption'], 'weight': 1.0}}, 'Corporate': {'Corporate Rat': {'abilities': ['Minipulative', ' Funding'], 'weight': 2.6}}, 'Demolish': {'Demolish Rat': {'abilities': ['Destroy', 'Break Down'], 'weight': 10.0}}}\n",
      "{'Logistics': {'Captain Rat': {'abilities': ['Underground Dig', 'Movement Speed'], 'weight': 0.35}}, 'Infantry': {'Corporal Rat': {'abilities': ['Movement Speed', 'Recon'], 'weight': 1}, 'Private Mouse': {'abilities': ['Movement Speed'], 'weight': 0.35}}, 'Naval': {'Commodore Rat': {'abilities': ['Float', ' Commands'], 'weight': 2.0}}, 'Medical': {'Medical Rat': {'abilities': ['Heal', ' Regen', ' Movement Speed'], 'weight': 0.5}}, 'Poltical': {'Senator Mouse': {'abilities': ['Poltics', ' Corruption'], 'weight': 1.0}}, 'Corporate': {'Corporate Rat': {'abilities': ['Minipulative', ' Funding'], 'weight': 2.6}}, 'Demolish': {'Demolish Rat': {'abilities': ['Destroy', 'Break Down'], 'weight': 10.0}}, 'Command': {'Remy': {'abilities': ['Commander in Chief'], 'weight': 0.56}}}\n",
      "{'Logistics': {'Captain Rat': {'abilities': ['Underground Dig', 'Movement Speed'], 'weight': 0.35}}, 'Infantry': {'Corporal Rat': {'abilities': ['Movement Speed', 'Recon'], 'weight': 1}, 'Private Mouse': {'abilities': ['Movement Speed'], 'weight': 0.35}}, 'Naval': {'Commodore Rat': {'abilities': ['Float', ' Commands'], 'weight': 2.0}}, 'Medical': {'Medical Rat': {'abilities': ['Heal', ' Regen', ' Movement Speed'], 'weight': 0.5}}, 'Poltical': {'Senator Mouse': {'abilities': ['Poltics', ' Corruption'], 'weight': 1.0}}, 'Corporate': {'Corporate Rat': {'abilities': ['Minipulative', ' Funding'], 'weight': 2.6}}, 'Demolish': {'Demolish Rat': {'abilities': ['Destroy', 'Break Down'], 'weight': 10.0}}, 'Command': {'Remy': {'abilities': ['Commander in Chief'], 'weight': 0.56}, 'Emul': {'abilities': ['Department of Commerce'], 'weight': 0.69}}}\n",
      "{'Logistics': {'Captain Rat': {'abilities': ['Underground Dig', 'Movement Speed'], 'weight': 0.35}}, 'Infantry': {'Corporal Rat': {'abilities': ['Movement Speed', 'Recon'], 'weight': 1}, 'Private Mouse': {'abilities': ['Movement Speed'], 'weight': 0.35}}, 'Naval': {'Commodore Rat': {'abilities': ['Float', ' Commands'], 'weight': 2.0}}, 'Medical': {'Medical Rat': {'abilities': ['Heal', ' Regen', ' Movement Speed'], 'weight': 0.5}}, 'Poltical': {'Senator Mouse': {'abilities': ['Poltics', ' Corruption'], 'weight': 1.0}}, 'Corporate': {'Corporate Rat': {'abilities': ['Minipulative', ' Funding'], 'weight': 2.6}}, 'Demolish': {'Demolish Rat': {'abilities': ['Destroy', 'Break Down'], 'weight': 10.0}}, 'Command': {'Remy': {'abilities': ['Commander in Chief'], 'weight': 0.56}, 'Emul': {'abilities': ['Department of Commerce'], 'weight': 0.69}}, 'Recon': {'Sergeant R Yapper': {'abilities': ['Vision', ' Range'], 'weight': 0.421}}}\n",
      "{'Logistics': {'Captain Rat': {'abilities': ['Underground Dig', 'Movement Speed'], 'weight': 0.35}}, 'Infantry': {'Corporal Rat': {'abilities': ['Movement Speed', 'Recon'], 'weight': 1}, 'Private Mouse': {'abilities': ['Movement Speed'], 'weight': 0.35}}, 'Naval': {'Commodore Rat': {'abilities': ['Float', ' Commands'], 'weight': 2.0}}, 'Medical': {'Medical Rat': {'abilities': ['Heal', ' Regen', ' Movement Speed'], 'weight': 0.5}}, 'Poltical': {'Senator Mouse': {'abilities': ['Poltics', ' Corruption'], 'weight': 1.0}}, 'Corporate': {'Corporate Rat': {'abilities': ['Minipulative', ' Funding'], 'weight': 2.6}}, 'Demolish': {'Demolish Rat': {'abilities': ['Destroy', 'Break Down'], 'weight': 10.0}}, 'Command': {'Remy': {'abilities': ['Commander in Chief'], 'weight': 0.56}, 'Emul': {'abilities': ['Department of Commerce'], 'weight': 0.69}}, 'Recon': {'Sergeant R Yapper': {'abilities': ['Vision', ' Range'], 'weight': 0.421}}, 'Hacker': {'Hacker Rat': {'abilities': ['Hack (Obvisouly)'], 'weight': 50.0}}}\n",
      "{'Logistics': {'Captain Rat': {'abilities': ['Underground Dig', 'Movement Speed'], 'weight': 0.35}}, 'Infantry': {'Corporal Rat': {'abilities': ['Movement Speed', 'Recon'], 'weight': 1}, 'Private Mouse': {'abilities': ['Movement Speed'], 'weight': 0.35}}, 'Naval': {'Commodore Rat': {'abilities': ['Float', ' Commands'], 'weight': 2.0}}, 'Medical': {'Medical Rat': {'abilities': ['Heal', ' Regen', ' Movement Speed'], 'weight': 0.5}}, 'Poltical': {'Senator Mouse': {'abilities': ['Poltics', ' Corruption'], 'weight': 1.0}}, 'Corporate': {'Corporate Rat': {'abilities': ['Minipulative', ' Funding'], 'weight': 2.6}}, 'Demolish': {'Demolish Rat': {'abilities': ['Destroy', 'Break Down'], 'weight': 10.0}}, 'Command': {'Remy': {'abilities': ['Commander in Chief'], 'weight': 0.56}, 'Emul': {'abilities': ['Department of Commerce'], 'weight': 0.69}}, 'Recon': {'Sergeant R Yapper': {'abilities': ['Vision', ' Range'], 'weight': 0.421}}, 'Hacker': {'Hacker Rat': {'abilities': ['Hack (Obvisouly)'], 'weight': 50.0}}}\n",
      "{'Logistics': {'Captain Rat': {'abilities': ['Underground Dig', 'Movement Speed'], 'weight': 0.35}}, 'Infantry': {'Corporal Rat': {'abilities': ['Movement Speed', 'Recon'], 'weight': 1}, 'Private Mouse': {'abilities': ['Movement Speed'], 'weight': 0.35}}, 'Naval': {'Commodore Rat': {'abilities': ['Float', ' Commands'], 'weight': 2.0}}, 'Medical': {'Medical Rat': {'abilities': ['Heal', ' Regen', ' Movement Speed'], 'weight': 0.5}}, 'Poltical': {'Senator Mouse': {'abilities': ['Poltics', ' Corruption'], 'weight': 1.0}}, 'Corporate': {'Corporate Rat': {'abilities': ['Minipulative', ' Funding'], 'weight': 2.6}}, 'Demolish': {'Demolish Rat': {'abilities': ['Destroy', 'Break Down'], 'weight': 10.0}}, 'Command': {'Remy': {'abilities': ['Commander in Chief'], 'weight': 0.56}, 'Emul': {'abilities': ['Department of Commerce'], 'weight': 0.69}}, 'Recon': {'Sergeant R Yapper': {'abilities': ['Vision', ' Range'], 'weight': 0.421}}, 'Hacker': {'Hacker Rat': {'abilities': ['Hack (Obvisouly)'], 'weight': 50.0}}, 'Capitalist': {'Capitalist Rat': {'abilities': ['Money'], 'weight': 3.14}}}\n"
     ]
    }
   ],
   "source": [
    "#The assignment will be based on the pokemon structure above but will have unique 'pokemons' inspired by the fictional Corporal Rat Universe\n",
    "\n",
    "#Type - Logistics, Infantry, Artillery, Recon \n",
    "#Abilities - underground dig, movement speed, pressure power\n",
    "#weight - float in hectograms - 1 hg = 100 grams - Source: https://pokeapi.co/docs/v2#types - Pokemon (type)\n",
    "\n",
    "data = {\n",
    "    'Logistics': {\n",
    "        'Captain Rat': {'abilities': ['Underground Dig','Movement Speed'], 'weight': 0.35}\n",
    "    },\n",
    "    'Infantry': {\n",
    "        'Corporal Rat': {'abilities': ['Movement Speed','Recon'], 'weight': 1}\n",
    "    }\n",
    "}\n",
    "def add_pokemon(data, cat, name, abilities, weight):\n",
    "    if cat in data:\n",
    "        data[cat][name] = {'abilities': abilities, 'weight': weight}\n",
    "    else:\n",
    "        data[cat] = {name: {'abilities': abilities, 'weight': weight}}\n",
    "\n",
    "import tkinter as tk\n",
    "from tkinter import messagebox\n",
    "def submit():\n",
    "    p_type = type_entry.get()\n",
    "    name = name_entry.get()\n",
    "    abilities = abilities_entry.get().split(',')\n",
    "    try:\n",
    "        weight = float(weight_entry.get())\n",
    "    except ValueError:\n",
    "        messagebox.showerror(\"Invalid input\", \"Weight must be a number\")\n",
    "        return\n",
    "    \n",
    "    add_pokemon(data, p_type, name, abilities, weight)\n",
    "    messagebox.showinfo(\"Success\", f\"Pokémon {name} added to the Pokedex\")\n",
    "    clear_entries()\n",
    "def search():\n",
    "    name = search_entry.get()\n",
    "    found = False\n",
    "    for category, pokemons in data.items():\n",
    "        if name in pokemons:\n",
    "            abilities = ', '.join(pokemons[name]['abilities'])\n",
    "            weight = pokemons[name]['weight']\n",
    "            result = f\"Name: {name}\\nType: {category}\\nAbilities: {abilities}\\nWeight: {weight} hectograms\"\n",
    "            print(result)\n",
    "            messagebox.showinfo(\"Search Results\", result)\n",
    "            found = True\n",
    "            break\n",
    "    if not found:\n",
    "        messagebox.showerror(\"Error\", \"Pokémon not found\")\n",
    "\n",
    "def clear_entries():\n",
    "    type_entry.delete(0, tk.END)\n",
    "    name_entry.delete(0, tk.END)\n",
    "    abilities_entry.delete(0, tk.END)\n",
    "    weight_entry.delete(0, tk.END)\n",
    "    search_entry.delete(0,tk.END)\n",
    "\n",
    "def save_entries(data):\n",
    "    import json\n",
    "    print(data)\n",
    "    with open('pokedex.json','w') as file:\n",
    "        json.dump(data,file,indent=4)\n",
    "\n",
    "# Create the main window\n",
    "root = tk.Tk()\n",
    "root.title(\"Pokémon Entry\")\n",
    "\n",
    "tk.Label(root, text=\"Type\").grid(row=0, column=0)\n",
    "type_entry = tk.Entry(root)\n",
    "type_entry.grid(row=0, column=1)\n",
    "\n",
    "tk.Label(root, text=\"Name\").grid(row=1, column=0)\n",
    "name_entry = tk.Entry(root)\n",
    "name_entry.grid(row=1, column=1)\n",
    "\n",
    "tk.Label(root, text=\"Abilities (comma separated)\").grid(row=2, column=0)\n",
    "abilities_entry = tk.Entry(root)\n",
    "abilities_entry.grid(row=2, column=1)\n",
    "\n",
    "tk.Label(root, text=\"Weight (in hectograms)\").grid(row=3, column=0)\n",
    "weight_entry = tk.Entry(root)\n",
    "weight_entry.grid(row=3, column=1)\n",
    "\n",
    "tk.Label(root, text=\"Search Name:\").grid(row=0, column=2)\n",
    "search_entry = tk.Entry(root)\n",
    "search_entry.grid(row=0, column=3)\n",
    "\n",
    "# Create and place the submit button\n",
    "submit_button = tk.Button(root, text=\"Submit\", command=submit)\n",
    "submit_button.grid(row=5, columnspan=2)\n",
    "\n",
    "search_button = tk.Button(root, text=\"Search\", command=search)\n",
    "search_button.grid(row=6, columnspan=2)\n",
    "\n",
    "save_button = tk.Button(root, text=\"Save as json\",command=lambda: save_entries(data))\n",
    "save_button.grid(row=7,columnspan=2)\n",
    "# Run the application\n",
    "root.mainloop()"
   ]
  }
 ],
 "metadata": {
  "kernelspec": {
   "display_name": "Python 3 (ipykernel)",
   "language": "python",
   "name": "python3"
  },
  "language_info": {
   "codemirror_mode": {
    "name": "ipython",
    "version": 3
   },
   "file_extension": ".py",
   "mimetype": "text/x-python",
   "name": "python",
   "nbconvert_exporter": "python",
   "pygments_lexer": "ipython3",
   "version": "3.11.5"
  }
 },
 "nbformat": 4,
 "nbformat_minor": 5
}
